{
  "nbformat": 4,
  "nbformat_minor": 0,
  "metadata": {
    "colab": {
      "provenance": [],
      "authorship_tag": "ABX9TyPHKtGk2CevPYYzP7lMtc2Y",
      "include_colab_link": true
    },
    "kernelspec": {
      "name": "python3",
      "display_name": "Python 3"
    },
    "language_info": {
      "name": "python"
    }
  },
  "cells": [
    {
      "cell_type": "markdown",
      "metadata": {
        "id": "view-in-github",
        "colab_type": "text"
      },
      "source": [
        "<a href=\"https://colab.research.google.com/github/prievarag/Employee-Attrition/blob/main/Employee_attrition_PG.ipynb\" target=\"_parent\"><img src=\"https://colab.research.google.com/assets/colab-badge.svg\" alt=\"Open In Colab\"/></a>"
      ]
    },
    {
      "cell_type": "markdown",
      "source": [
        "## Employee attrition prediction"
      ],
      "metadata": {
        "id": "65-qY8GDVHOo"
      }
    },
    {
      "cell_type": "markdown",
      "source": [
        "![Employee-Attrition.png](data:image/png;base64,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)"
      ],
      "metadata": {
        "id": "-n4ohvw0YJr_"
      }
    },
    {
      "cell_type": "markdown",
      "source": [
        "In my current workplace - food industry - one of my first tasks was to analyze employee turnover. I created lots of tables and graphs, and we drew several conclusions from that analysis.\n",
        "\n",
        "At the time, and ever since, this question was of central importance.\n",
        "\n",
        "Now I have a dataset from Kaggle, I will analyze it and predict whether an employee will leave the company in the future or not."
      ],
      "metadata": {
        "id": "XNxiO5v-lD4z"
      }
    },
    {
      "cell_type": "markdown",
      "source": [
        "In this dataset we have several features as columns relevant to the investigation of labor turnover:\n",
        "*   Education : The highest level of formal education obtained by the employee\n",
        "*   JoiningYear : Year of joining the company\n",
        "*   City : Job Location\n",
        "*   PaymentTier : [1:3] -> 1 means better payment\n",
        "*   Age : Age of the employee\n",
        "*   Gender : Gender of the employee\n",
        "*   EverBenched : Ever kept out of project for more than one month\n",
        "*   ExperienceInCurrentDomain : Experience in current field\n",
        "*   LeaveOrNot : Whether the employee leaves the company in next 2 years\n",
        "\n",
        "\n"
      ],
      "metadata": {
        "id": "VE6RFUcqUFn6"
      }
    },
    {
      "cell_type": "code",
      "execution_count": 2,
      "metadata": {
        "id": "aoU53mwkSJOz"
      },
      "outputs": [],
      "source": [
        "import pandas as pd\n",
        "import numpy as np\n",
        "import matplotlib.pyplot as plt\n",
        "import seaborn as sns"
      ]
    },
    {
      "cell_type": "code",
      "source": [
        "df = pd.read_csv(\"Employee.csv\")\n",
        "df"
      ],
      "metadata": {
        "id": "xoUEQ_e6VGgA",
        "colab": {
          "base_uri": "https://localhost:8080/",
          "height": 423
        },
        "outputId": "9e7d7f16-a8b9-4330-808a-b8aacaa0056c"
      },
      "execution_count": 3,
      "outputs": [
        {
          "output_type": "execute_result",
          "data": {
            "text/plain": [
              "      Education  JoiningYear       City  PaymentTier  Age  Gender EverBenched  \\\n",
              "0     Bachelors         2017  Bangalore            3   34    Male          No   \n",
              "1     Bachelors         2013       Pune            1   28  Female          No   \n",
              "2     Bachelors         2014  New Delhi            3   38  Female          No   \n",
              "3       Masters         2016  Bangalore            3   27    Male          No   \n",
              "4       Masters         2017       Pune            3   24    Male         Yes   \n",
              "...         ...          ...        ...          ...  ...     ...         ...   \n",
              "4648  Bachelors         2013  Bangalore            3   26  Female          No   \n",
              "4649    Masters         2013       Pune            2   37    Male          No   \n",
              "4650    Masters         2018  New Delhi            3   27    Male          No   \n",
              "4651  Bachelors         2012  Bangalore            3   30    Male         Yes   \n",
              "4652  Bachelors         2015  Bangalore            3   33    Male         Yes   \n",
              "\n",
              "      ExperienceInCurrentDomain  LeaveOrNot  \n",
              "0                             0           0  \n",
              "1                             3           1  \n",
              "2                             2           0  \n",
              "3                             5           1  \n",
              "4                             2           1  \n",
              "...                         ...         ...  \n",
              "4648                          4           0  \n",
              "4649                          2           1  \n",
              "4650                          5           1  \n",
              "4651                          2           0  \n",
              "4652                          4           0  \n",
              "\n",
              "[4653 rows x 9 columns]"
            ],
            "text/html": [
              "\n",
              "  <div id=\"df-1705c45b-1f7e-424d-a237-372b53349892\">\n",
              "    <div class=\"colab-df-container\">\n",
              "      <div>\n",
              "<style scoped>\n",
              "    .dataframe tbody tr th:only-of-type {\n",
              "        vertical-align: middle;\n",
              "    }\n",
              "\n",
              "    .dataframe tbody tr th {\n",
              "        vertical-align: top;\n",
              "    }\n",
              "\n",
              "    .dataframe thead th {\n",
              "        text-align: right;\n",
              "    }\n",
              "</style>\n",
              "<table border=\"1\" class=\"dataframe\">\n",
              "  <thead>\n",
              "    <tr style=\"text-align: right;\">\n",
              "      <th></th>\n",
              "      <th>Education</th>\n",
              "      <th>JoiningYear</th>\n",
              "      <th>City</th>\n",
              "      <th>PaymentTier</th>\n",
              "      <th>Age</th>\n",
              "      <th>Gender</th>\n",
              "      <th>EverBenched</th>\n",
              "      <th>ExperienceInCurrentDomain</th>\n",
              "      <th>LeaveOrNot</th>\n",
              "    </tr>\n",
              "  </thead>\n",
              "  <tbody>\n",
              "    <tr>\n",
              "      <th>0</th>\n",
              "      <td>Bachelors</td>\n",
              "      <td>2017</td>\n",
              "      <td>Bangalore</td>\n",
              "      <td>3</td>\n",
              "      <td>34</td>\n",
              "      <td>Male</td>\n",
              "      <td>No</td>\n",
              "      <td>0</td>\n",
              "      <td>0</td>\n",
              "    </tr>\n",
              "    <tr>\n",
              "      <th>1</th>\n",
              "      <td>Bachelors</td>\n",
              "      <td>2013</td>\n",
              "      <td>Pune</td>\n",
              "      <td>1</td>\n",
              "      <td>28</td>\n",
              "      <td>Female</td>\n",
              "      <td>No</td>\n",
              "      <td>3</td>\n",
              "      <td>1</td>\n",
              "    </tr>\n",
              "    <tr>\n",
              "      <th>2</th>\n",
              "      <td>Bachelors</td>\n",
              "      <td>2014</td>\n",
              "      <td>New Delhi</td>\n",
              "      <td>3</td>\n",
              "      <td>38</td>\n",
              "      <td>Female</td>\n",
              "      <td>No</td>\n",
              "      <td>2</td>\n",
              "      <td>0</td>\n",
              "    </tr>\n",
              "    <tr>\n",
              "      <th>3</th>\n",
              "      <td>Masters</td>\n",
              "      <td>2016</td>\n",
              "      <td>Bangalore</td>\n",
              "      <td>3</td>\n",
              "      <td>27</td>\n",
              "      <td>Male</td>\n",
              "      <td>No</td>\n",
              "      <td>5</td>\n",
              "      <td>1</td>\n",
              "    </tr>\n",
              "    <tr>\n",
              "      <th>4</th>\n",
              "      <td>Masters</td>\n",
              "      <td>2017</td>\n",
              "      <td>Pune</td>\n",
              "      <td>3</td>\n",
              "      <td>24</td>\n",
              "      <td>Male</td>\n",
              "      <td>Yes</td>\n",
              "      <td>2</td>\n",
              "      <td>1</td>\n",
              "    </tr>\n",
              "    <tr>\n",
              "      <th>...</th>\n",
              "      <td>...</td>\n",
              "      <td>...</td>\n",
              "      <td>...</td>\n",
              "      <td>...</td>\n",
              "      <td>...</td>\n",
              "      <td>...</td>\n",
              "      <td>...</td>\n",
              "      <td>...</td>\n",
              "      <td>...</td>\n",
              "    </tr>\n",
              "    <tr>\n",
              "      <th>4648</th>\n",
              "      <td>Bachelors</td>\n",
              "      <td>2013</td>\n",
              "      <td>Bangalore</td>\n",
              "      <td>3</td>\n",
              "      <td>26</td>\n",
              "      <td>Female</td>\n",
              "      <td>No</td>\n",
              "      <td>4</td>\n",
              "      <td>0</td>\n",
              "    </tr>\n",
              "    <tr>\n",
              "      <th>4649</th>\n",
              "      <td>Masters</td>\n",
              "      <td>2013</td>\n",
              "      <td>Pune</td>\n",
              "      <td>2</td>\n",
              "      <td>37</td>\n",
              "      <td>Male</td>\n",
              "      <td>No</td>\n",
              "      <td>2</td>\n",
              "      <td>1</td>\n",
              "    </tr>\n",
              "    <tr>\n",
              "      <th>4650</th>\n",
              "      <td>Masters</td>\n",
              "      <td>2018</td>\n",
              "      <td>New Delhi</td>\n",
              "      <td>3</td>\n",
              "      <td>27</td>\n",
              "      <td>Male</td>\n",
              "      <td>No</td>\n",
              "      <td>5</td>\n",
              "      <td>1</td>\n",
              "    </tr>\n",
              "    <tr>\n",
              "      <th>4651</th>\n",
              "      <td>Bachelors</td>\n",
              "      <td>2012</td>\n",
              "      <td>Bangalore</td>\n",
              "      <td>3</td>\n",
              "      <td>30</td>\n",
              "      <td>Male</td>\n",
              "      <td>Yes</td>\n",
              "      <td>2</td>\n",
              "      <td>0</td>\n",
              "    </tr>\n",
              "    <tr>\n",
              "      <th>4652</th>\n",
              "      <td>Bachelors</td>\n",
              "      <td>2015</td>\n",
              "      <td>Bangalore</td>\n",
              "      <td>3</td>\n",
              "      <td>33</td>\n",
              "      <td>Male</td>\n",
              "      <td>Yes</td>\n",
              "      <td>4</td>\n",
              "      <td>0</td>\n",
              "    </tr>\n",
              "  </tbody>\n",
              "</table>\n",
              "<p>4653 rows × 9 columns</p>\n",
              "</div>\n",
              "      <button class=\"colab-df-convert\" onclick=\"convertToInteractive('df-1705c45b-1f7e-424d-a237-372b53349892')\"\n",
              "              title=\"Convert this dataframe to an interactive table.\"\n",
              "              style=\"display:none;\">\n",
              "        \n",
              "  <svg xmlns=\"http://www.w3.org/2000/svg\" height=\"24px\"viewBox=\"0 0 24 24\"\n",
              "       width=\"24px\">\n",
              "    <path d=\"M0 0h24v24H0V0z\" fill=\"none\"/>\n",
              "    <path d=\"M18.56 5.44l.94 2.06.94-2.06 2.06-.94-2.06-.94-.94-2.06-.94 2.06-2.06.94zm-11 1L8.5 8.5l.94-2.06 2.06-.94-2.06-.94L8.5 2.5l-.94 2.06-2.06.94zm10 10l.94 2.06.94-2.06 2.06-.94-2.06-.94-.94-2.06-.94 2.06-2.06.94z\"/><path d=\"M17.41 7.96l-1.37-1.37c-.4-.4-.92-.59-1.43-.59-.52 0-1.04.2-1.43.59L10.3 9.45l-7.72 7.72c-.78.78-.78 2.05 0 2.83L4 21.41c.39.39.9.59 1.41.59.51 0 1.02-.2 1.41-.59l7.78-7.78 2.81-2.81c.8-.78.8-2.07 0-2.86zM5.41 20L4 18.59l7.72-7.72 1.47 1.35L5.41 20z\"/>\n",
              "  </svg>\n",
              "      </button>\n",
              "      \n",
              "  <style>\n",
              "    .colab-df-container {\n",
              "      display:flex;\n",
              "      flex-wrap:wrap;\n",
              "      gap: 12px;\n",
              "    }\n",
              "\n",
              "    .colab-df-convert {\n",
              "      background-color: #E8F0FE;\n",
              "      border: none;\n",
              "      border-radius: 50%;\n",
              "      cursor: pointer;\n",
              "      display: none;\n",
              "      fill: #1967D2;\n",
              "      height: 32px;\n",
              "      padding: 0 0 0 0;\n",
              "      width: 32px;\n",
              "    }\n",
              "\n",
              "    .colab-df-convert:hover {\n",
              "      background-color: #E2EBFA;\n",
              "      box-shadow: 0px 1px 2px rgba(60, 64, 67, 0.3), 0px 1px 3px 1px rgba(60, 64, 67, 0.15);\n",
              "      fill: #174EA6;\n",
              "    }\n",
              "\n",
              "    [theme=dark] .colab-df-convert {\n",
              "      background-color: #3B4455;\n",
              "      fill: #D2E3FC;\n",
              "    }\n",
              "\n",
              "    [theme=dark] .colab-df-convert:hover {\n",
              "      background-color: #434B5C;\n",
              "      box-shadow: 0px 1px 3px 1px rgba(0, 0, 0, 0.15);\n",
              "      filter: drop-shadow(0px 1px 2px rgba(0, 0, 0, 0.3));\n",
              "      fill: #FFFFFF;\n",
              "    }\n",
              "  </style>\n",
              "\n",
              "      <script>\n",
              "        const buttonEl =\n",
              "          document.querySelector('#df-1705c45b-1f7e-424d-a237-372b53349892 button.colab-df-convert');\n",
              "        buttonEl.style.display =\n",
              "          google.colab.kernel.accessAllowed ? 'block' : 'none';\n",
              "\n",
              "        async function convertToInteractive(key) {\n",
              "          const element = document.querySelector('#df-1705c45b-1f7e-424d-a237-372b53349892');\n",
              "          const dataTable =\n",
              "            await google.colab.kernel.invokeFunction('convertToInteractive',\n",
              "                                                     [key], {});\n",
              "          if (!dataTable) return;\n",
              "\n",
              "          const docLinkHtml = 'Like what you see? Visit the ' +\n",
              "            '<a target=\"_blank\" href=https://colab.research.google.com/notebooks/data_table.ipynb>data table notebook</a>'\n",
              "            + ' to learn more about interactive tables.';\n",
              "          element.innerHTML = '';\n",
              "          dataTable['output_type'] = 'display_data';\n",
              "          await google.colab.output.renderOutput(dataTable, element);\n",
              "          const docLink = document.createElement('div');\n",
              "          docLink.innerHTML = docLinkHtml;\n",
              "          element.appendChild(docLink);\n",
              "        }\n",
              "      </script>\n",
              "    </div>\n",
              "  </div>\n",
              "  "
            ]
          },
          "metadata": {},
          "execution_count": 3
        }
      ]
    },
    {
      "cell_type": "code",
      "source": [
        "#let's see how many data we have\n",
        "df.shape"
      ],
      "metadata": {
        "colab": {
          "base_uri": "https://localhost:8080/"
        },
        "id": "Q89NDNirHS6v",
        "outputId": "f0e9b7d9-edf6-43c3-fe1e-7867e515ad5c"
      },
      "execution_count": 4,
      "outputs": [
        {
          "output_type": "execute_result",
          "data": {
            "text/plain": [
              "(4653, 9)"
            ]
          },
          "metadata": {},
          "execution_count": 4
        }
      ]
    },
    {
      "cell_type": "code",
      "source": [
        "df.duplicated().sum()"
      ],
      "metadata": {
        "colab": {
          "base_uri": "https://localhost:8080/"
        },
        "id": "UrK34SWrIBBy",
        "outputId": "8adf1d45-010f-4cc0-d53e-448e0c829771"
      },
      "execution_count": 5,
      "outputs": [
        {
          "output_type": "execute_result",
          "data": {
            "text/plain": [
              "1889"
            ]
          },
          "metadata": {},
          "execution_count": 5
        }
      ]
    },
    {
      "cell_type": "markdown",
      "source": [
        "As we see the features, there is no reason to remove duplicates because they can be different employees."
      ],
      "metadata": {
        "id": "0wgxwbWXIntk"
      }
    },
    {
      "cell_type": "code",
      "source": [
        "df.dtypes"
      ],
      "metadata": {
        "colab": {
          "base_uri": "https://localhost:8080/"
        },
        "id": "C_USQyCZIm5D",
        "outputId": "7d6232a2-2040-46ed-ab31-10b8ce4b724f"
      },
      "execution_count": 6,
      "outputs": [
        {
          "output_type": "execute_result",
          "data": {
            "text/plain": [
              "Education                    object\n",
              "JoiningYear                   int64\n",
              "City                         object\n",
              "PaymentTier                   int64\n",
              "Age                           int64\n",
              "Gender                       object\n",
              "EverBenched                  object\n",
              "ExperienceInCurrentDomain     int64\n",
              "LeaveOrNot                    int64\n",
              "dtype: object"
            ]
          },
          "metadata": {},
          "execution_count": 6
        }
      ]
    },
    {
      "cell_type": "code",
      "source": [
        "df.select_dtypes(include=\"object\").nunique()"
      ],
      "metadata": {
        "colab": {
          "base_uri": "https://localhost:8080/"
        },
        "id": "YqhA_1JUjQWJ",
        "outputId": "ac92ceb4-48b5-4cbb-91e9-885f183c5c64"
      },
      "execution_count": 7,
      "outputs": [
        {
          "output_type": "execute_result",
          "data": {
            "text/plain": [
              "Education      3\n",
              "City           3\n",
              "Gender         2\n",
              "EverBenched    2\n",
              "dtype: int64"
            ]
          },
          "metadata": {},
          "execution_count": 7
        }
      ]
    },
    {
      "cell_type": "markdown",
      "source": [
        "So we have 3 education level, 3 city, 2 gender and 2 of the category EverBenched."
      ],
      "metadata": {
        "id": "bf8PWxq9jkSq"
      }
    },
    {
      "cell_type": "code",
      "source": [
        "df.head()"
      ],
      "metadata": {
        "colab": {
          "base_uri": "https://localhost:8080/",
          "height": 206
        },
        "id": "oUrHDJVGaWHD",
        "outputId": "43d98424-df3a-4c67-cb4c-371b2306ac4e"
      },
      "execution_count": 8,
      "outputs": [
        {
          "output_type": "execute_result",
          "data": {
            "text/plain": [
              "   Education  JoiningYear       City  PaymentTier  Age  Gender EverBenched  \\\n",
              "0  Bachelors         2017  Bangalore            3   34    Male          No   \n",
              "1  Bachelors         2013       Pune            1   28  Female          No   \n",
              "2  Bachelors         2014  New Delhi            3   38  Female          No   \n",
              "3    Masters         2016  Bangalore            3   27    Male          No   \n",
              "4    Masters         2017       Pune            3   24    Male         Yes   \n",
              "\n",
              "   ExperienceInCurrentDomain  LeaveOrNot  \n",
              "0                          0           0  \n",
              "1                          3           1  \n",
              "2                          2           0  \n",
              "3                          5           1  \n",
              "4                          2           1  "
            ],
            "text/html": [
              "\n",
              "  <div id=\"df-e8119aa9-9c3e-4356-9510-006c33a7f48b\">\n",
              "    <div class=\"colab-df-container\">\n",
              "      <div>\n",
              "<style scoped>\n",
              "    .dataframe tbody tr th:only-of-type {\n",
              "        vertical-align: middle;\n",
              "    }\n",
              "\n",
              "    .dataframe tbody tr th {\n",
              "        vertical-align: top;\n",
              "    }\n",
              "\n",
              "    .dataframe thead th {\n",
              "        text-align: right;\n",
              "    }\n",
              "</style>\n",
              "<table border=\"1\" class=\"dataframe\">\n",
              "  <thead>\n",
              "    <tr style=\"text-align: right;\">\n",
              "      <th></th>\n",
              "      <th>Education</th>\n",
              "      <th>JoiningYear</th>\n",
              "      <th>City</th>\n",
              "      <th>PaymentTier</th>\n",
              "      <th>Age</th>\n",
              "      <th>Gender</th>\n",
              "      <th>EverBenched</th>\n",
              "      <th>ExperienceInCurrentDomain</th>\n",
              "      <th>LeaveOrNot</th>\n",
              "    </tr>\n",
              "  </thead>\n",
              "  <tbody>\n",
              "    <tr>\n",
              "      <th>0</th>\n",
              "      <td>Bachelors</td>\n",
              "      <td>2017</td>\n",
              "      <td>Bangalore</td>\n",
              "      <td>3</td>\n",
              "      <td>34</td>\n",
              "      <td>Male</td>\n",
              "      <td>No</td>\n",
              "      <td>0</td>\n",
              "      <td>0</td>\n",
              "    </tr>\n",
              "    <tr>\n",
              "      <th>1</th>\n",
              "      <td>Bachelors</td>\n",
              "      <td>2013</td>\n",
              "      <td>Pune</td>\n",
              "      <td>1</td>\n",
              "      <td>28</td>\n",
              "      <td>Female</td>\n",
              "      <td>No</td>\n",
              "      <td>3</td>\n",
              "      <td>1</td>\n",
              "    </tr>\n",
              "    <tr>\n",
              "      <th>2</th>\n",
              "      <td>Bachelors</td>\n",
              "      <td>2014</td>\n",
              "      <td>New Delhi</td>\n",
              "      <td>3</td>\n",
              "      <td>38</td>\n",
              "      <td>Female</td>\n",
              "      <td>No</td>\n",
              "      <td>2</td>\n",
              "      <td>0</td>\n",
              "    </tr>\n",
              "    <tr>\n",
              "      <th>3</th>\n",
              "      <td>Masters</td>\n",
              "      <td>2016</td>\n",
              "      <td>Bangalore</td>\n",
              "      <td>3</td>\n",
              "      <td>27</td>\n",
              "      <td>Male</td>\n",
              "      <td>No</td>\n",
              "      <td>5</td>\n",
              "      <td>1</td>\n",
              "    </tr>\n",
              "    <tr>\n",
              "      <th>4</th>\n",
              "      <td>Masters</td>\n",
              "      <td>2017</td>\n",
              "      <td>Pune</td>\n",
              "      <td>3</td>\n",
              "      <td>24</td>\n",
              "      <td>Male</td>\n",
              "      <td>Yes</td>\n",
              "      <td>2</td>\n",
              "      <td>1</td>\n",
              "    </tr>\n",
              "  </tbody>\n",
              "</table>\n",
              "</div>\n",
              "      <button class=\"colab-df-convert\" onclick=\"convertToInteractive('df-e8119aa9-9c3e-4356-9510-006c33a7f48b')\"\n",
              "              title=\"Convert this dataframe to an interactive table.\"\n",
              "              style=\"display:none;\">\n",
              "        \n",
              "  <svg xmlns=\"http://www.w3.org/2000/svg\" height=\"24px\"viewBox=\"0 0 24 24\"\n",
              "       width=\"24px\">\n",
              "    <path d=\"M0 0h24v24H0V0z\" fill=\"none\"/>\n",
              "    <path d=\"M18.56 5.44l.94 2.06.94-2.06 2.06-.94-2.06-.94-.94-2.06-.94 2.06-2.06.94zm-11 1L8.5 8.5l.94-2.06 2.06-.94-2.06-.94L8.5 2.5l-.94 2.06-2.06.94zm10 10l.94 2.06.94-2.06 2.06-.94-2.06-.94-.94-2.06-.94 2.06-2.06.94z\"/><path d=\"M17.41 7.96l-1.37-1.37c-.4-.4-.92-.59-1.43-.59-.52 0-1.04.2-1.43.59L10.3 9.45l-7.72 7.72c-.78.78-.78 2.05 0 2.83L4 21.41c.39.39.9.59 1.41.59.51 0 1.02-.2 1.41-.59l7.78-7.78 2.81-2.81c.8-.78.8-2.07 0-2.86zM5.41 20L4 18.59l7.72-7.72 1.47 1.35L5.41 20z\"/>\n",
              "  </svg>\n",
              "      </button>\n",
              "      \n",
              "  <style>\n",
              "    .colab-df-container {\n",
              "      display:flex;\n",
              "      flex-wrap:wrap;\n",
              "      gap: 12px;\n",
              "    }\n",
              "\n",
              "    .colab-df-convert {\n",
              "      background-color: #E8F0FE;\n",
              "      border: none;\n",
              "      border-radius: 50%;\n",
              "      cursor: pointer;\n",
              "      display: none;\n",
              "      fill: #1967D2;\n",
              "      height: 32px;\n",
              "      padding: 0 0 0 0;\n",
              "      width: 32px;\n",
              "    }\n",
              "\n",
              "    .colab-df-convert:hover {\n",
              "      background-color: #E2EBFA;\n",
              "      box-shadow: 0px 1px 2px rgba(60, 64, 67, 0.3), 0px 1px 3px 1px rgba(60, 64, 67, 0.15);\n",
              "      fill: #174EA6;\n",
              "    }\n",
              "\n",
              "    [theme=dark] .colab-df-convert {\n",
              "      background-color: #3B4455;\n",
              "      fill: #D2E3FC;\n",
              "    }\n",
              "\n",
              "    [theme=dark] .colab-df-convert:hover {\n",
              "      background-color: #434B5C;\n",
              "      box-shadow: 0px 1px 3px 1px rgba(0, 0, 0, 0.15);\n",
              "      filter: drop-shadow(0px 1px 2px rgba(0, 0, 0, 0.3));\n",
              "      fill: #FFFFFF;\n",
              "    }\n",
              "  </style>\n",
              "\n",
              "      <script>\n",
              "        const buttonEl =\n",
              "          document.querySelector('#df-e8119aa9-9c3e-4356-9510-006c33a7f48b button.colab-df-convert');\n",
              "        buttonEl.style.display =\n",
              "          google.colab.kernel.accessAllowed ? 'block' : 'none';\n",
              "\n",
              "        async function convertToInteractive(key) {\n",
              "          const element = document.querySelector('#df-e8119aa9-9c3e-4356-9510-006c33a7f48b');\n",
              "          const dataTable =\n",
              "            await google.colab.kernel.invokeFunction('convertToInteractive',\n",
              "                                                     [key], {});\n",
              "          if (!dataTable) return;\n",
              "\n",
              "          const docLinkHtml = 'Like what you see? Visit the ' +\n",
              "            '<a target=\"_blank\" href=https://colab.research.google.com/notebooks/data_table.ipynb>data table notebook</a>'\n",
              "            + ' to learn more about interactive tables.';\n",
              "          element.innerHTML = '';\n",
              "          dataTable['output_type'] = 'display_data';\n",
              "          await google.colab.output.renderOutput(dataTable, element);\n",
              "          const docLink = document.createElement('div');\n",
              "          docLink.innerHTML = docLinkHtml;\n",
              "          element.appendChild(docLink);\n",
              "        }\n",
              "      </script>\n",
              "    </div>\n",
              "  </div>\n",
              "  "
            ]
          },
          "metadata": {},
          "execution_count": 8
        }
      ]
    },
    {
      "cell_type": "code",
      "source": [
        "df.columns"
      ],
      "metadata": {
        "colab": {
          "base_uri": "https://localhost:8080/"
        },
        "id": "f9yPUgPFg7qg",
        "outputId": "68210c9e-6406-4ae5-8267-e75270437a7f"
      },
      "execution_count": 9,
      "outputs": [
        {
          "output_type": "execute_result",
          "data": {
            "text/plain": [
              "Index(['Education', 'JoiningYear', 'City', 'PaymentTier', 'Age', 'Gender',\n",
              "       'EverBenched', 'ExperienceInCurrentDomain', 'LeaveOrNot'],\n",
              "      dtype='object')"
            ]
          },
          "metadata": {},
          "execution_count": 9
        }
      ]
    },
    {
      "cell_type": "markdown",
      "source": [
        "## Data Visualization\n",
        "We can see better the correlation between feature and target."
      ],
      "metadata": {
        "id": "ln56hulrcJiV"
      }
    },
    {
      "cell_type": "code",
      "source": [
        "sns.countplot(data = df, x=\"Gender\", hue=\"LeaveOrNot\")"
      ],
      "metadata": {
        "colab": {
          "base_uri": "https://localhost:8080/",
          "height": 466
        },
        "id": "SOZVx8btadjE",
        "outputId": "513affb4-72f0-4702-b195-6d7ac44e7e26"
      },
      "execution_count": 10,
      "outputs": [
        {
          "output_type": "execute_result",
          "data": {
            "text/plain": [
              "<Axes: xlabel='Gender', ylabel='count'>"
            ]
          },
          "metadata": {},
          "execution_count": 10
        },
        {
          "output_type": "display_data",
          "data": {
            "text/plain": [
              "<Figure size 640x480 with 1 Axes>"
            ],
            "image/png": "[encoded data removed]"
          },
          "metadata": {}
        }
      ]
    },
    {
      "cell_type": "code",
      "source": [
        "sns.countplot(data = df, x=\"City\", hue=\"LeaveOrNot\")"
      ],
      "metadata": {
        "colab": {
          "base_uri": "https://localhost:8080/",
          "height": 466
        },
        "id": "x1o3nr9eco6O",
        "outputId": "c3f955dc-277b-4e04-c4ab-4800393bad25"
      },
      "execution_count": 11,
      "outputs": [
        {
          "output_type": "execute_result",
          "data": {
            "text/plain": [
              "<Axes: xlabel='City', ylabel='count'>"
            ]
          },
          "metadata": {},
          "execution_count": 11
        },
        {
          "output_type": "display_data",
          "data": {
            "text/plain": [
              "<Figure size 640x480 with 1 Axes>"
            ],
            "image/png": "[encoded data removed]"
          },
          "metadata": {}
        }
      ]
    },
    {
      "cell_type": "code",
      "source": [
        "sns.countplot(data = df, x=\"JoiningYear\", hue=\"LeaveOrNot\")"
      ],
      "metadata": {
        "colab": {
          "base_uri": "https://localhost:8080/",
          "height": 466
        },
        "id": "cTGnp-y7d-Ym",
        "outputId": "04c7996a-3e10-4e04-9204-920e7ae43efc"
      },
      "execution_count": 12,
      "outputs": [
        {
          "output_type": "execute_result",
          "data": {
            "text/plain": [
              "<Axes: xlabel='JoiningYear', ylabel='count'>"
            ]
          },
          "metadata": {},
          "execution_count": 12
        },
        {
          "output_type": "display_data",
          "data": {
            "text/plain": [
              "<Figure size 640x480 with 1 Axes>"
            ],
            "image/png": "[encoded data removed]"
          },
          "metadata": {}
        }
      ]
    },
    {
      "cell_type": "code",
      "source": [
        "sns.countplot(data = df, x=\"EverBenched\", hue=\"LeaveOrNot\")"
      ],
      "metadata": {
        "colab": {
          "base_uri": "https://localhost:8080/",
          "height": 466
        },
        "id": "ZLJ_mG7NeGK2",
        "outputId": "211188fe-cb45-45ad-c6bf-ff0a105d6333"
      },
      "execution_count": 13,
      "outputs": [
        {
          "output_type": "execute_result",
          "data": {
            "text/plain": [
              "<Axes: xlabel='EverBenched', ylabel='count'>"
            ]
          },
          "metadata": {},
          "execution_count": 13
        },
        {
          "output_type": "display_data",
          "data": {
            "text/plain": [
              "<Figure size 640x480 with 1 Axes>"
            ],
            "image/png": "[encoded data removed]"
          },
          "metadata": {}
        }
      ]
    },
    {
      "cell_type": "code",
      "source": [
        "sns.countplot(data = df, x=\"ExperienceInCurrentDomain\", hue=\"LeaveOrNot\")"
      ],
      "metadata": {
        "colab": {
          "base_uri": "https://localhost:8080/",
          "height": 466
        },
        "id": "h-cLIRfKg3A4",
        "outputId": "4c8602c5-ec2d-4da5-9b94-4317684eb133"
      },
      "execution_count": 14,
      "outputs": [
        {
          "output_type": "execute_result",
          "data": {
            "text/plain": [
              "<Axes: xlabel='ExperienceInCurrentDomain', ylabel='count'>"
            ]
          },
          "metadata": {},
          "execution_count": 14
        },
        {
          "output_type": "display_data",
          "data": {
            "text/plain": [
              "<Figure size 640x480 with 1 Axes>"
            ],
            "image/png": "[encoded data removed]"
          },
          "metadata": {}
        }
      ]
    },
    {
      "cell_type": "markdown",
      "source": [
        "As we can see, about 50% leaves the company in every category. The company has only a few employee with 6 or 7 years of experience. Personally I think it is useful to keep employees with several years of experience because their replacement is more difficult to solve."
      ],
      "metadata": {
        "id": "H20rxbeZhD7l"
      }
    },
    {
      "cell_type": "code",
      "source": [
        "df_gender = df.Gender.value_counts()"
      ],
      "metadata": {
        "id": "Dklz3BN_jr6q"
      },
      "execution_count": 15,
      "outputs": []
    },
    {
      "cell_type": "code",
      "source": [
        "df_gender.plot(kind=\"pie\",\n",
        "               figsize = (5, 6),      #size of the graph\n",
        "               autopct = '%1.1f%%',   #add data in percentages\n",
        "               startangle = 90,       #rotation starting position\n",
        "               colors=sns.color_palette('Set2'),\n",
        "               #shadow = True          #maybe not a good idea\n",
        ")"
      ],
      "metadata": {
        "colab": {
          "base_uri": "https://localhost:8080/",
          "height": 441
        },
        "id": "jg5Yx5RmzUbD",
        "outputId": "1f1f875a-4a13-46d3-f96f-f9eb8c158608"
      },
      "execution_count": 16,
      "outputs": [
        {
          "output_type": "execute_result",
          "data": {
            "text/plain": [
              "<Axes: ylabel='Gender'>"
            ]
          },
          "metadata": {},
          "execution_count": 16
        },
        {
          "output_type": "display_data",
          "data": {
            "text/plain": [
              "<Figure size 500x600 with 1 Axes>"
            ],
            "image/png": "[encoded data removed]"
          },
          "metadata": {}
        }
      ]
    },
    {
      "cell_type": "markdown",
      "source": [
        "##Data Preprocessing"
      ],
      "metadata": {
        "id": "F3cggV5RgVrr"
      }
    },
    {
      "cell_type": "code",
      "source": [
        "#Checking null values\n",
        "df.isnull().sum()"
      ],
      "metadata": {
        "colab": {
          "base_uri": "https://localhost:8080/"
        },
        "id": "EQnYOYh0gY01",
        "outputId": "5c1a888c-0e7b-45ef-baa6-d3652d022ba4"
      },
      "execution_count": 17,
      "outputs": [
        {
          "output_type": "execute_result",
          "data": {
            "text/plain": [
              "Education                    0\n",
              "JoiningYear                  0\n",
              "City                         0\n",
              "PaymentTier                  0\n",
              "Age                          0\n",
              "Gender                       0\n",
              "EverBenched                  0\n",
              "ExperienceInCurrentDomain    0\n",
              "LeaveOrNot                   0\n",
              "dtype: int64"
            ]
          },
          "metadata": {},
          "execution_count": 17
        }
      ]
    }
  ]
}